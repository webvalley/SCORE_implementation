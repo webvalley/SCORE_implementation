{
 "cells": [
  {
   "cell_type": "markdown",
   "metadata": {},
   "source": [
    "# Implementation of the SCORE algorithm to PLIC-MILANO datase\n",
    "## it will add a new column called 'score'"
   ]
  },
  {
   "cell_type": "code",
   "execution_count": null,
   "metadata": {},
   "outputs": [],
   "source": [
    "import pandas as pd\n",
    "import os\n",
    "import math"
   ]
  },
  {
   "cell_type": "markdown",
   "metadata": {},
   "source": [
    "# defining functions for the SCORE algorithm"
   ]
  },
  {
   "cell_type": "code",
   "execution_count": null,
   "metadata": {},
   "outputs": [],
   "source": [
    "def step1(age,sex,chd=True):\n",
    "    #CHD\n",
    "    if (chd):            #constants for chd\n",
    "        if (sex):              # 0 for men and 1 for women\n",
    "            a=-29.8\n",
    "            p = 6.36\n",
    "        else:\n",
    "            a=-22.1\n",
    "            p = 4.71\n",
    "        \n",
    "    else:                #constants for non chd\n",
    "        if (sex):\n",
    "            a = -31.0\n",
    "            p = 6.62\n",
    "        else:\n",
    "\n",
    "            a = -26.7\n",
    "            p = 5.64\n",
    "            \n",
    "    #print(\"a =\", a, \"; p =\",p)\n",
    "   \n",
    "    s = math.exp(-(math.exp(a))*(age-20)**p)\n",
    "    return s"
   ]
  },
  {
   "cell_type": "code",
   "execution_count": null,
   "metadata": {},
   "outputs": [],
   "source": [
    "def step2(chol, SBP, smoker, chd=True):\n",
    "    if chd:  \n",
    "        c_smoker = 0.71\n",
    "        c_chol = 0.24\n",
    "        c_SBP = 0.018\n",
    "    else:\n",
    "        c_smoker = 0.63\n",
    "        c_chol = 0.02\n",
    "        c_SBP = 0.022\n",
    "    \n",
    "    w = (c_chol*(chol-6))+(c_SBP*(SBP-120))+(c_smoker*smoker)\n",
    "    return w"
   ]
  },
  {
   "cell_type": "code",
   "execution_count": null,
   "metadata": {},
   "outputs": [],
   "source": [
    "def score_algorithm( age, chol, SBP, sex, smoker):\n",
    "    #CHD \n",
    "    s = step1(age,sex)\n",
    "    s10 = step1(age+10,sex)\n",
    "    \n",
    "    w = step2(chol, SBP, smoker)\n",
    "    \n",
    "    s=s**(math.exp(w))\n",
    "    s10=s10**(math.exp(w))\n",
    "    try:\n",
    "        stot=s10/s\n",
    "    except:\n",
    "        stot=1              \n",
    "    riskc = 1 -stot\n",
    "    \n",
    "    \n",
    "    #NON CHD\n",
    "    s = step1(age,sex,chd=False)\n",
    "    s10 = step1(age+10,sex, chd=False)\n",
    "  \n",
    "    w = step2(chol, SBP, smoker, chd=False)\n",
    "    \n",
    "    s=s**(math.exp(w))\n",
    "    s10=s10**(math.exp(w)) \n",
    "    try:\n",
    "        stot=s10/s\n",
    "    except:\n",
    "        stot=1\n",
    "    risknon = 1 -stot  \n",
    "    \n",
    "    \n",
    "    #print (\"risk CHD: \", riskc *100)\n",
    "    #print (\"risk nonCHD: \" ,risknon * 100)\n",
    "    risktot = 1 - (1-riskc) * (1-risknon)\n",
    "    \n",
    "    \n",
    "    #print('total RISK:',risktot)\n",
    "    return risktot"
   ]
  },
  {
   "cell_type": "markdown",
   "metadata": {},
   "source": [
    "# Importing CSV file"
   ]
  },
  {
   "cell_type": "code",
   "execution_count": null,
   "metadata": {},
   "outputs": [],
   "source": [
    "#importing csv file\n",
    "data_frame = pd.read_csv(\"PLIC-milano.csv\",error_bad_lines=False, sep=';', low_memory=False)"
   ]
  },
  {
   "cell_type": "code",
   "execution_count": null,
   "metadata": {},
   "outputs": [],
   "source": [
    "#for i, el in enumerate(data_frame.columns):\n",
    "    #print (i, el)"
   ]
  },
  {
   "cell_type": "markdown",
   "metadata": {},
   "source": [
    "# processing of column 'smoking'"
   ]
  },
  {
   "cell_type": "code",
   "execution_count": null,
   "metadata": {},
   "outputs": [],
   "source": [
    "#function to control smoking column values as 'ex', 'other'.... and convert them to 'si\n",
    "def check_smoking_column():\n",
    "        for i,el in enumerate(data_frame['smoking']):\n",
    "                if (not(el.startswith('si', 0,len(data_frame['smoking'][i])) or el.startswith('no', 0,len(data_frame['smoking'][i])))):\n",
    "                    data_frame['smoking'][i]='si'\n",
    "                    print(i, \"fatto\")"
   ]
  },
  {
   "cell_type": "code",
   "execution_count": null,
   "metadata": {},
   "outputs": [],
   "source": [
    "#function for the smoking column and changing every 'si' in 1 and every 'no' in 0\n",
    "def bool_smoking_column():\n",
    "        for i,el in enumerate(data_frame['smoking']):\n",
    "            if (el=='si'):\n",
    "                data_frame['smoking'][i]=1\n",
    "                print(i, \"fatto\")\n",
    "            elif (el=='no'):\n",
    "                data_frame['smoking'][i]=0\n",
    "                print(i, \"fatto\")"
   ]
  },
  {
   "cell_type": "code",
   "execution_count": null,
   "metadata": {},
   "outputs": [],
   "source": [
    "check_smoking_column()\n"
   ]
  },
  {
   "cell_type": "code",
   "execution_count": null,
   "metadata": {
    "scrolled": true
   },
   "outputs": [],
   "source": [
    "bool_smoking_column()"
   ]
  },
  {
   "cell_type": "code",
   "execution_count": null,
   "metadata": {},
   "outputs": [],
   "source": [
    "data_frame['smoking']"
   ]
  },
  {
   "cell_type": "markdown",
   "metadata": {},
   "source": [
    "# Add new column "
   ]
  },
  {
   "cell_type": "code",
   "execution_count": null,
   "metadata": {},
   "outputs": [],
   "source": [
    "#adding a new column with 'default ' as value\n",
    "data_frame['SCORE']='default'"
   ]
  },
  {
   "cell_type": "code",
   "execution_count": null,
   "metadata": {},
   "outputs": [],
   "source": [
    "column_list=['age','gender','smoking','total cholesterol','pas']\n",
    "column_list.append('SCORE')\n",
    "print(column_list)"
   ]
  },
  {
   "cell_type": "code",
   "execution_count": null,
   "metadata": {},
   "outputs": [],
   "source": [
    "\n",
    "data_frame[column_list].head()"
   ]
  },
  {
   "cell_type": "code",
   "execution_count": null,
   "metadata": {},
   "outputs": [],
   "source": [
    "#new panda frame with the column i want\n",
    "score_frame=data_frame[column_list]"
   ]
  },
  {
   "cell_type": "markdown",
   "metadata": {},
   "source": [
    "# Applying the SCORE algorithm for each row of the dataset"
   ]
  },
  {
   "cell_type": "code",
   "execution_count": null,
   "metadata": {},
   "outputs": [],
   "source": [
    "\n",
    "for index, row in score_frame.iterrows():\n",
    "    row['total cholesterol']*=0.02586   #converting total cholesterol level from mg/dL to mmol/L\n",
    "    \n",
    "    try:\n",
    "        row['SCORE']=score_algorithm(row['age'],row['total cholesterol'], row['pas'], row['gender'], row['smoking'])\n",
    "    except:\n",
    "        row['SCORE']=0               \n",
    "    data_frame['SCORE'][index]=row['SCORE']*100      #from 0% to a 100%\n",
    "    print (index, data_frame['SCORE'][index])\n",
    "    "
   ]
  },
  {
   "cell_type": "code",
   "execution_count": null,
   "metadata": {},
   "outputs": [],
   "source": [
    "data_frame.head(100)"
   ]
  },
  {
   "cell_type": "markdown",
   "metadata": {},
   "source": [
    "# Exporting the new DATASET"
   ]
  },
  {
   "cell_type": "code",
   "execution_count": null,
   "metadata": {},
   "outputs": [],
   "source": [
    "filename=\"./PLIC_MILANO_wSCORE.csv\""
   ]
  },
  {
   "cell_type": "code",
   "execution_count": null,
   "metadata": {},
   "outputs": [],
   "source": [
    "export_csv = data_frame.to_csv (filename, index = None, header=True) "
   ]
  },
  {
   "cell_type": "code",
   "execution_count": null,
   "metadata": {},
   "outputs": [],
   "source": [
    "## read the new dataset"
   ]
  },
  {
   "cell_type": "code",
   "execution_count": null,
   "metadata": {},
   "outputs": [],
   "source": [
    "data_frame = pd.read_csv(filename,error_bad_lines=False, sep=',', low_memory=False)\n",
    "data_frame[column_list][::-1]"
   ]
  },
  {
   "cell_type": "code",
   "execution_count": null,
   "metadata": {},
   "outputs": [],
   "source": []
  }
 ],
 "metadata": {
  "kernelspec": {
   "display_name": "Python 3",
   "language": "python",
   "name": "python3"
  },
  "language_info": {
   "codemirror_mode": {
    "name": "ipython",
    "version": 3
   },
   "file_extension": ".py",
   "mimetype": "text/x-python",
   "name": "python",
   "nbconvert_exporter": "python",
   "pygments_lexer": "ipython3",
   "version": "3.7.3"
  }
 },
 "nbformat": 4,
 "nbformat_minor": 2
}
