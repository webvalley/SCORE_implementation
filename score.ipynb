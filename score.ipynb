{
 "cells": [
  {
   "cell_type": "code",
   "execution_count": 55,
   "metadata": {},
   "outputs": [],
   "source": [
    "import random\n",
    "import math"
   ]
  },
  {
   "cell_type": "code",
   "execution_count": 56,
   "metadata": {},
   "outputs": [],
   "source": [
    "def step1(age,sex,chd=True):\n",
    "    #CHD\n",
    "    if (chd):            #constants for chd\n",
    "        if (sex):\n",
    "            a=-22.1\n",
    "            p = 4.71\n",
    "        else:\n",
    "            a=-29.8\n",
    "            p = 6.36\n",
    "        \n",
    "    else:                #constants for non chd\n",
    "        if (sex):\n",
    "            a = -26.7\n",
    "            p = 5.64\n",
    "        else:\n",
    "            a = -31.0\n",
    "            p = 6.62\n",
    "            \n",
    "    #print(\"a =\", a, \"; p =\",p)\n",
    "   \n",
    "    s = math.exp(-(math.exp(a))*((age-20)**p))\n",
    "    return s"
   ]
  },
  {
   "cell_type": "code",
   "execution_count": 57,
   "metadata": {},
   "outputs": [],
   "source": [
    "def step2(chol, SBP, smoker, chd=True):\n",
    "    if chd:  \n",
    "        c_smoker = 0.71\n",
    "        c_chol = 0.24\n",
    "        c_SBP = 0.018\n",
    "    else:\n",
    "        c_smoker = 0.63\n",
    "        c_chol = 0.02\n",
    "        c_SBP = 0.022\n",
    "    \n",
    "    w = (c_chol*(chol-6))+(c_SBP*(SBP-120))+(c_smoker*smoker)\n",
    "    return w"
   ]
  },
  {
   "cell_type": "code",
   "execution_count": 58,
   "metadata": {},
   "outputs": [],
   "source": [
    "def score_algorithm( age, chol, SBP, sex, smoker):\n",
    "    s = step1(age,sex)\n",
    "    s10 = step1(age+10,sex)\n",
    "    \n",
    "    w = step2(chol, SBP, smoker)\n",
    "    \n",
    "    s=s**(math.exp(w))\n",
    "    s10=s10**(math.exp(w))\n",
    "    \n",
    "    stot=s10/s\n",
    "    #print (\"stot:\", stot)\n",
    "    riskc = 1 -stot\n",
    "    #print(riskc)\n",
    "    #non CHD\n",
    "    if (sex):    \n",
    "        a=-26.7\n",
    "        p = 5.64\n",
    "    else:\n",
    "        a=-31.0\n",
    "        p = 6.62\n",
    "    s = step1(age,sex,chd=False)\n",
    "    s10 = step1(age+10,sex, chd=False)\n",
    "  \n",
    "    w = step2(chol, SBP, smoker, chd=False)\n",
    "    \n",
    "    s=s**(math.exp(w))\n",
    "    s10=s10**(math.exp(w))\n",
    "\n",
    "    stot=s10/s\n",
    "    risknon = 1 -stot  \n",
    "    \n",
    "    \n",
    "    #print (\"risk CHD: \", riskc *100)\n",
    "    #print (\"risk nonCHD: \" ,risknon * 100)\n",
    "    risktot = 1 - (1-riskc) * (1-risknon)\n",
    "    \n",
    "    return risktot"
   ]
  },
  {
   "cell_type": "code",
   "execution_count": 59,
   "metadata": {},
   "outputs": [],
   "source": [
    "def printInfo(age,chol,SBP,smoker,sex):\n",
    "    print(\"Age:\", age)\n",
    "    print(\"Cholesterol:\",chol,\"mmol/L\")\n",
    "    print(\"SBP:\", SBP,\"mmHg\")\n",
    "    \n",
    "    if (smoker):\n",
    "        print(\"smoker: yes\")\n",
    "    else:\n",
    "        print(\"Smoker: no\")\n",
    "    if (sex):\n",
    "        print(\"Sex: M\")\n",
    "    else:\n",
    "        print(\"Sex: F\")\n",
    "    print()\n",
    "    print()\n"
   ]
  },
  {
   "cell_type": "code",
   "execution_count": 118,
   "metadata": {},
   "outputs": [],
   "source": [
    "def main():\n",
    "    #generating random info\n",
    "    age=random.randint(60,90)\n",
    "    age=20\n",
    "    chol=random.randint(3,14) #Cholesterol level in mmol/L\n",
    "    SBP=random.randint(90, 250) #Systolic Blood Pressure in mmhg\n",
    "    smoker=random.choice([1, 0]) \n",
    "    #smoker: 1 for smoker; 2 for not smoker\n",
    "    sex=random.choice([1, 0])\n",
    "    #sex: 1 for MALE; 0 for FEMALE\n",
    "    \n",
    "    \n",
    "    printInfo(age,chol,SBP,smoker,sex)\n",
    "    \n",
    "    risktot = score_algorithm(age, chol, SBP, sex, smoker)\n",
    "    print(\"Total risk: \",risktot*100,\"%\")\n",
    "    "
   ]
  },
  {
   "cell_type": "code",
   "execution_count": 239,
   "metadata": {},
   "outputs": [
    {
     "name": "stdout",
     "output_type": "stream",
     "text": [
      "Age: 20\n",
      "Cholesterol: 5 mmol/L\n",
      "SBP: 247 mmHg\n",
      "Smoker: no\n",
      "Sex: M\n",
      "\n",
      "\n",
      "Total risk:  0.011788954540348229 %\n"
     ]
    }
   ],
   "source": [
    "main()"
   ]
  }
 ],
 "metadata": {
  "kernelspec": {
   "display_name": "Python 3",
   "language": "python",
   "name": "python3"
  },
  "language_info": {
   "codemirror_mode": {
    "name": "ipython",
    "version": 3
   },
   "file_extension": ".py",
   "mimetype": "text/x-python",
   "name": "python",
   "nbconvert_exporter": "python",
   "pygments_lexer": "ipython3",
   "version": "3.7.3"
  }
 },
 "nbformat": 4,
 "nbformat_minor": 2
}
